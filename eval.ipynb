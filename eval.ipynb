{
 "cells": [
  {
   "cell_type": "code",
   "execution_count": 3,
   "metadata": {},
   "outputs": [
    {
     "name": "stdout",
     "output_type": "stream",
     "text": [
      "Outlier detected. Skipping value.\n",
      "Outlier detected. Skipping value.\n",
      "Outlier detected. Skipping value.\n",
      "Outlier detected. Skipping value.\n",
      "Outlier detected. Skipping value.\n",
      "Outlier detected. Skipping value.\n",
      "Outlier detected. Skipping value.\n",
      "Outlier detected. Skipping value.\n",
      "Outlier detected. Skipping value.\n",
      "Outlier detected. Skipping value.\n",
      "Outlier detected. Skipping value.\n",
      "Outlier detected. Skipping value.\n",
      "Outlier detected. Skipping value.\n",
      "Outlier detected. Skipping value.\n",
      "Outlier detected. Skipping value.\n",
      "Outlier detected. Skipping value.\n",
      "0.9285714285714286\n",
      "0.9761904761904762\n"
     ]
    }
   ],
   "source": [
    "import numpy as np\n",
    "from sktime.classification.kernel_based import RocketClassifier\n",
    "from sktime.transformations.panel.padder import PaddingTransformer\n",
    "\n",
    "from classification import get_train_test_data\n",
    "\n",
    "if __name__ == \"__main__\":\n",
    "    X_train, y_train, X_test, y_test = get_train_test_data()\n",
    "\n",
    "    # classifier = DummyClassifier(strategy=\"prior\")  # 0.619\n",
    "    # classifier = PaddingTransformer() * KNeighborsTimeSeriesClassifier()  # 0.857\n",
    "    # classifier = TimeSeriesSVC()  # 0.761\n",
    "    # classifier = PaddingTransformer() * TimeSeriesForestClassifier()  # 0.880\n",
    "    # classifier = PaddingTransformer() * ResNetClassifier(n_epochs=20)  # 0.69\n",
    "    # classifier = PaddingTransformer() * InceptionTimeClassifier(n_epochs=20, batch_size=16)  # 0.666\n",
    "    # classifier = PaddingTransformer() * HIVECOTEV2()  # 0.762\n",
    "    # classifier = PaddingTransformer() * ShapeletTransformClassifier(\n",
    "    #     estimator=RotationForest(n_estimators=3),\n",
    "    #     n_shapelet_samples=100,\n",
    "    #     max_shapelets=10,\n",
    "    #     batch_size=20,\n",
    "    # )  # 0.857\n",
    "\n",
    "    classifier = PaddingTransformer() * RocketClassifier()  # 0.928\n",
    "\n",
    "    classifier.fit(X_train, y_train)\n",
    "    y_pred = classifier.predict(X_test)\n",
    "    acc = np.mean(y_pred == y_test)\n",
    "    print(acc)\n",
    "    # correct if y_pred and y_test are 0, or y_pred, y_test are both not 0\n",
    "    binary_acc = np.mean((y_pred == 0) & (y_test == 0) | ((y_pred != 0) & (y_test != 0)))\n",
    "    print(binary_acc)\n",
    "\n",
    "    # mlflow_sktime.save_model(sktime_model=classifier, path=\"model\")\n"
   ]
  },
  {
   "cell_type": "code",
   "execution_count": 4,
   "metadata": {},
   "outputs": [
    {
     "name": "stdout",
     "output_type": "stream",
     "text": [
      "              precision    recall  f1-score   support\n",
      "\n",
      "           0       0.96      1.00      0.98        25\n",
      "           1       1.00      0.75      0.86         4\n",
      "           2       0.80      0.80      0.80         5\n",
      "           3       0.86      0.86      0.86         7\n",
      "           4       1.00      1.00      1.00         1\n",
      "\n",
      "    accuracy                           0.93        42\n",
      "   macro avg       0.92      0.88      0.90        42\n",
      "weighted avg       0.93      0.93      0.93        42\n",
      "\n"
     ]
    }
   ],
   "source": [
    "from sklearn.metrics import classification_report\n",
    "\n",
    "print(classification_report(y_test, y_pred))"
   ]
  },
  {
   "cell_type": "code",
   "execution_count": 8,
   "metadata": {},
   "outputs": [
    {
     "name": "stdout",
     "output_type": "stream",
     "text": [
      "[[25  0  0  0  0]\n",
      " [ 1  3  0  0  0]\n",
      " [ 0  0  4  1  0]\n",
      " [ 0  0  1  6  0]\n",
      " [ 0  0  0  0  1]]\n"
     ]
    },
    {
     "data": {
      "image/png": "[encoded data removed]",
      "text/plain": [
       "<Figure size 640x480 with 2 Axes>"
      ]
     },
     "metadata": {},
     "output_type": "display_data"
    }
   ],
   "source": [
    "from sklearn.metrics import confusion_matrix, ConfusionMatrixDisplay\n",
    "import matplotlib.pyplot as plt\n",
    "\n",
    "cm = confusion_matrix(y_test, y_pred)\n",
    "print(cm)\n",
    "disp = ConfusionMatrixDisplay(confusion_matrix=cm)\n",
    "disp.plot()\n",
    "plt.savefig(\"cm.svg\")"
   ]
  }
 ],
 "metadata": {
  "kernelspec": {
   "display_name": ".venv",
   "language": "python",
   "name": "python3"
  },
  "language_info": {
   "codemirror_mode": {
    "name": "ipython",
    "version": 3
   },
   "file_extension": ".py",
   "mimetype": "text/x-python",
   "name": "python",
   "nbconvert_exporter": "python",
   "pygments_lexer": "ipython3",
   "version": "3.11.9"
  }
 },
 "nbformat": 4,
 "nbformat_minor": 2
}
